{
 "cells": [
  {
   "cell_type": "markdown",
   "metadata": {
    "id": "o_gswWnsuCiH"
   },
   "source": [
    "**１.driveマウント**"
   ]
  },
  {
   "cell_type": "code",
   "execution_count": 1,
   "metadata": {
    "cellView": "form",
    "colab": {
     "base_uri": "https://localhost:8080/"
    },
    "executionInfo": {
     "elapsed": 37334,
     "status": "ok",
     "timestamp": 1761787067700,
     "user": {
      "displayName": "Seoncheol Choe",
      "userId": "04239407958994059232"
     },
     "user_tz": -540
    },
    "id": "51VBvxT0c5gI",
    "outputId": "858eab75-302c-4c5b-b702-47e838390035"
   },
   "outputs": [
    {
     "name": "stdout",
     "output_type": "stream",
     "text": [
      "Mounted at /content/drive\n",
      "現在の作業ディレクトリ: /content/drive/MyDrive/Inventory_monitoring\n",
      "ディレクトリ構成:\n",
      "  ┣ sql/ (6 files)\n",
      "     ┗ 1.sales.sql\n",
      "     ┗ 3.purchase.sql\n",
      "     ┗ 4,purchase_plan.sql\n",
      "     ┗ 5.invent_eom.sql\n",
      "     ┗ 6.transfer.sql\n",
      "     ┗ 2.revenue.sql\n",
      "  ┣ data/ (1 files)\n",
      "     ┗ 仕入予定(未登録分).gsheet\n",
      "  ┣ util/ (6 files)\n",
      "     ┗ common.py\n",
      "     ┗ init.py\n",
      "     ┗ __pycache__\n",
      "     ┗ bq_io.py\n",
      "     ┗ forecasting.py\n",
      "     ┗ psi.py\n",
      "Google 認証 OK\n",
      "BigQuery 接続 OK: tential-data-prd\n"
     ]
    }
   ],
   "source": [
    "# @title\n",
    "# === 1) Google Drive マウント ===\n",
    "from google.colab import drive\n",
    "drive.mount(\"/content/drive\")\n",
    "\n",
    "# === 2) 作業ディレクトリ設定 ===\n",
    "import os\n",
    "BASE_DIR = \"/content/drive/MyDrive/Inventory_monitoring\"\n",
    "os.chdir(BASE_DIR)\n",
    "\n",
    "print(\"現在の作業ディレクトリ:\", os.getcwd())\n",
    "print(\"ディレクトリ構成:\")\n",
    "\n",
    "# サブフォルダの内容を一覧表示\n",
    "for folder in [\"sql\", \"data\", \"util\"]:\n",
    "    path = os.path.join(BASE_DIR, folder)\n",
    "    if os.path.exists(path):\n",
    "        files = os.listdir(path)\n",
    "        print(f\"  ┣ {folder}/ ({len(files)} files)\")\n",
    "        for f in files[:10]:  # 上位10件まで表示（多い場合は省略）\n",
    "            print(f\"     ┗ {f}\")\n",
    "        if len(files) > 10:\n",
    "            print(\"     ...\")\n",
    "    else:\n",
    "        print(f\"  ┣ {folder}/ (not found)\")\n",
    "\n",
    "# === 3) Google アカウント認証 ===\n",
    "from google.colab import auth\n",
    "auth.authenticate_user()\n",
    "print(\"Google 認証 OK\")\n",
    "\n",
    "# === 4) BigQuery クライアント初期化 ===\n",
    "from google.cloud import bigquery\n",
    "PROJECT_ID = \"tential-data-prd\"\n",
    "bq = bigquery.Client(project=PROJECT_ID)\n",
    "print(f\"BigQuery 接続 OK: {bq.project}\")\n"
   ]
  },
  {
   "cell_type": "markdown",
   "metadata": {
    "id": "XXQF_hpJ3H7i"
   },
   "source": [
    "**2.データフレーム格納**"
   ]
  },
  {
   "cell_type": "code",
   "execution_count": 2,
   "metadata": {
    "cellView": "form",
    "colab": {
     "base_uri": "https://localhost:8080/"
    },
    "executionInfo": {
     "elapsed": 24279,
     "status": "ok",
     "timestamp": 1761787091985,
     "user": {
      "displayName": "Seoncheol Choe",
      "userId": "04239407958994059232"
     },
     "user_tz": -540
    },
    "id": "EYXV2Er410lu",
    "outputId": "f2e12216-af18-45aa-b12c-98d93dfe5d86"
   },
   "outputs": [
    {
     "name": "stdout",
     "output_type": "stream",
     "text": [
      "[OK] sales          <- 1.sales.sql                    shape=(14605, 7)\n",
      "[OK] revenue        <- 2.revenue.sql                  shape=(3609, 4)\n",
      "[OK] purchase       <- 3.purchase.sql                 shape=(2607, 4)\n",
      "[OK] purchase_plan  <- 4,purchase_plan.sql            shape=(2001, 4)\n",
      "[OK] invent_eom     <- 5.invent_eom.sql               shape=(10386, 4)\n",
      "[OK] transfer       <- 6.transfer.sql                 shape=(937, 5)\n"
     ]
    }
   ],
   "source": [
    "# @title\n",
    "# === 必要モジュール ===\n",
    "from pathlib import Path\n",
    "from datetime import date\n",
    "from util.bq_io import run_sql_file_to_df  # BigQuery 実行関数\n",
    "\n",
    "# === SQL ファイル定義 ===\n",
    "SQL_FILES = {\n",
    "    \"sales\":         Path(\"sql/1.sales.sql\"),\n",
    "    \"revenue\":       Path(\"sql/2.revenue.sql\"),\n",
    "    \"purchase\":      Path(\"sql/3.purchase.sql\"),\n",
    "    \"purchase_plan\": Path(\"sql/4,purchase_plan.sql\"),\n",
    "    \"invent_eom\":    Path(\"sql/5.invent_eom.sql\"),\n",
    "    \"transfer\":      Path(\"sql/6.transfer.sql\"),\n",
    "}\n",
    "\n",
    "# === 共通クエリパラメータ ===\n",
    "QUERY_PARAMS = {\n",
    "    \"today\": date.today().isoformat(),  # 例: '2025-10-28'\n",
    "}\n",
    "\n",
    "# === 実行＆確認 ===\n",
    "frames = {}\n",
    "for key, path in SQL_FILES.items():\n",
    "    df = run_sql_file_to_df(path, QUERY_PARAMS)\n",
    "    frames[key] = df\n",
    "    print(f\"[OK] {key:14s} <- {path.name:30s} shape={df.shape}\")\n"
   ]
  }
 ],
 "metadata": {
  "colab": {
   "authorship_tag": "ABX9TyOVfyaXL5d/JBgKoA5Lp1D8",
   "provenance": []
  },
  "kernelspec": {
   "display_name": "Python 3",
   "name": "python3"
  },
  "language_info": {
   "name": "python"
  }
 },
 "nbformat": 4,
 "nbformat_minor": 0
}
